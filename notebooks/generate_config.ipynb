{
 "cells": [
  {
   "cell_type": "markdown",
   "id": "f8e16006",
   "metadata": {},
   "source": [
    "# Learning Rate"
   ]
  },
  {
   "cell_type": "code",
   "execution_count": null,
   "id": "44164da8",
   "metadata": {},
   "outputs": [],
   "source": [
    "import os\n",
    "import yaml\n",
    "\n",
    "# 读取原始 config 文件\n",
    "template_path = \"experiments/exp12_dsqwen7b_gsm8k/config/new_sys_prompt.yaml\"  # 替换为原始配置文件路径\n",
    "output_dir = \"experiments/exp12_dsqwen7b_gsm8k/config/\"         # 输出文件夹路径\n",
    "os.makedirs(output_dir, exist_ok=True)\n",
    "\n",
    "# 你想尝试的学习率\n",
    "learning_rates = [1e-6, 5e-6, 1e-5, 5e-5, 1e-4]\n",
    "\n",
    "# 加载 base config\n",
    "with open(template_path, \"r\") as f:\n",
    "    base_config = yaml.safe_load(f)\n",
    "\n",
    "# 对每个学习率生成新配置\n",
    "for lr in learning_rates:\n",
    "    config = base_config.copy()\n",
    "    config[\"learning_rate\"] = lr\n",
    "    filename = f\"config_lr_{lr:.0e}.yaml\".replace(\"+\", \"\")\n",
    "    path = os.path.join(output_dir, filename)\n",
    "\n",
    "    # 保证换行不被转义\n",
    "    with open(path, \"w\", encoding=\"utf-8\") as f:\n",
    "        yaml.dump(config, f, default_flow_style=False, sort_keys=False)\n",
    "\n",
    "    print(f\"✅ Saved: {path}\")\n"
   ]
  },
  {
   "cell_type": "markdown",
   "id": "cf6d5a56",
   "metadata": {},
   "source": [
    "# Ratio"
   ]
  },
  {
   "cell_type": "code",
   "execution_count": null,
   "id": "a3f1637e",
   "metadata": {},
   "outputs": [],
   "source": [
    "import yaml\n",
    "import os\n",
    "from pathlib import Path\n",
    "\n",
    "# 原始yaml路径（可以替换成你自己的）\n",
    "template_path = \"experiments/exp12_dsqwen7b_gsm8k/config/new_sys_prompt.yaml\"\n",
    "output_dir = Path(template_path).parent\n",
    "\n",
    "\n",
    "# 确保输出目录存在\n",
    "Path(output_dir).mkdir(exist_ok=True)\n",
    "\n",
    "# 定义 reward function 映射（顺序必须一致）\n",
    "reward_keys = [\"accuracy\", \"format\", \"length\"]\n",
    "\n",
    "# 比例输入：每个字符串代表 accuracy:format:length，例如\"210\" 表示 2:1:0\n",
    "ratios = [\n",
    "    \"110\",\n",
    "    \"101\",\n",
    "    \"210\",\n",
    "    \"201\",\n",
    "    \"211\",\n",
    "    \"311\",\n",
    "    \"321\",\n",
    "    \"312\",\n",
    "    \"411\",\n",
    "    \"421\",\n",
    "    \"412\",\n",
    "    \"431\",\n",
    "    \"413\",\n",
    "]\n",
    "\n",
    "# 读取模板yaml\n",
    "with open(template_path, \"r\") as f:\n",
    "    base_config = yaml.safe_load(f)\n",
    "\n",
    "\n",
    "for ratio_str in ratios:\n",
    "    weights = [int(c) for c in ratio_str]\n",
    "    reward_funcs = [k for k, w in zip(reward_keys, weights) if w > 0]\n",
    "    reward_weights = [float(w) for w in weights if w > 0]\n",
    "\n",
    "    config = base_config.copy()\n",
    "    config[\"reward_funcs\"] = reward_funcs\n",
    "    config[\"reward_weights\"] = reward_weights\n",
    "\n",
    "    filename = f\"config_reward_{ratio_str}.yaml\"\n",
    "    path = os.path.join(output_dir, filename)\n",
    "\n",
    "    with open(path, \"w\") as f:\n",
    "        yaml.dump(config, f, sort_keys=False, allow_unicode=True, width=1000)\n",
    "\n",
    "    print(f\"✅ Saved: {path}\")\n"
   ]
  }
 ],
 "metadata": {
  "language_info": {
   "name": "python"
  }
 },
 "nbformat": 4,
 "nbformat_minor": 5
}
